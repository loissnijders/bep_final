{
 "cells": [
  {
   "cell_type": "code",
   "execution_count": 1,
   "metadata": {},
   "outputs": [
    {
     "data": {
      "text/html": [
       "\n",
       "        <iframe\n",
       "            width=\"100%\"\n",
       "            height=\"650\"\n",
       "            src=\"http://127.0.0.1:8050/\"\n",
       "            frameborder=\"0\"\n",
       "            allowfullscreen\n",
       "            \n",
       "        ></iframe>\n",
       "        "
      ],
      "text/plain": [
       "<IPython.lib.display.IFrame at 0x1cf961094c0>"
      ]
     },
     "metadata": {},
     "output_type": "display_data"
    }
   ],
   "source": [
    "import dash\n",
    "from dash import dcc, html, Input, Output\n",
    "\n",
    "# Initialize the app\n",
    "app = dash.Dash(__name__)\n",
    "\n",
    "# Layout of the app\n",
    "app.layout = html.Div([\n",
    "    dcc.RadioItems(\n",
    "        id='radio-items',\n",
    "        options=[\n",
    "            {'label': 'Show Dropdown', 'value': 'dropdown'},\n",
    "            {'label': 'Show Numeric Input', 'value': 'numeric'}\n",
    "        ],\n",
    "        value='dropdown'  # Default selected option\n",
    "    ),\n",
    "    html.Div(id='conditional-container')  # Container to hold conditional content\n",
    "])\n",
    "\n",
    "# Callback to update the conditional content\n",
    "@app.callback(\n",
    "    Output('conditional-container', 'children'),\n",
    "    [Input('radio-items', 'value')]\n",
    ")\n",
    "def display_conditional_content(selected_value):\n",
    "    if selected_value == 'dropdown':\n",
    "        return dcc.Dropdown(\n",
    "            id='dropdown',\n",
    "            options=[\n",
    "                {'label': 'Option 1', 'value': '1'},\n",
    "                {'label': 'Option 2', 'value': '2'},\n",
    "                {'label': 'Option 3', 'value': '3'}\n",
    "            ],\n",
    "            value='1'  # Default selected value\n",
    "        )\n",
    "    elif selected_value == 'numeric':\n",
    "        return dcc.Input(\n",
    "            id='numeric-input',\n",
    "            type='number',\n",
    "            value=0  # Default numeric input value\n",
    "        )\n",
    "\n",
    "# Run the app\n",
    "if __name__ == '__main__':\n",
    "    app.run_server(debug=True)"
   ]
  },
  {
   "cell_type": "code",
   "execution_count": null,
   "metadata": {},
   "outputs": [],
   "source": []
  }
 ],
 "metadata": {
  "kernelspec": {
   "display_name": "Python 3",
   "language": "python",
   "name": "python3"
  },
  "language_info": {
   "codemirror_mode": {
    "name": "ipython",
    "version": 3
   },
   "file_extension": ".py",
   "mimetype": "text/x-python",
   "name": "python",
   "nbconvert_exporter": "python",
   "pygments_lexer": "ipython3",
   "version": "3.12.1"
  }
 },
 "nbformat": 4,
 "nbformat_minor": 2
}
